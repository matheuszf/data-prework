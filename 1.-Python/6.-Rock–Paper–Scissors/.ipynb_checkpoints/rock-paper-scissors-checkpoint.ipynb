{
 "cells": [
  {
   "cell_type": "markdown",
   "metadata": {},
   "source": [
    "<img src=\"https://bit.ly/2VnXWr2\" width=\"100\" align=\"left\">"
   ]
  },
  {
   "cell_type": "markdown",
   "metadata": {},
   "source": [
    "# Rock, Paper & Scissors\n",
    "\n",
    "Let's play the famous game against our computer. You can check the rules [here](https://en.wikipedia.org/wiki/Rock%E2%80%93paper%E2%80%93scissors). \n",
    "\n",
    "## Task\n",
    "Create a program that imitates the playability of the well known game of rock, paper, scissors. Follow the guidelines provided.\n",
    "\n",
    "## Tools\n",
    "1. Loop: **for/while**\n",
    "2. Functions: **input(), print()...**\n",
    "3. Conditional statements: **if, elif, else**\n",
    "4. Definition of functions. Modular programming\n",
    "5. Import modules\n",
    "\n",
    "**To solve this challenge, the use of functions is recommended.**\n",
    "\n",
    "#### 1. Import the choice function of the random module."
   ]
  },
  {
   "cell_type": "code",
   "execution_count": 1,
   "metadata": {},
   "outputs": [],
   "source": [
    "import random"
   ]
  },
  {
   "cell_type": "markdown",
   "metadata": {},
   "source": [
    "#### 2. Create a list that includes the 3 possible gesture options of the game: 'rock', 'paper' or 'scissors'. Store the list in a variable called `gestures`."
   ]
  },
  {
   "cell_type": "code",
   "execution_count": 2,
   "metadata": {},
   "outputs": [
    {
     "name": "stdout",
     "output_type": "stream",
     "text": [
      "['rock', 'paper', 'scissors']\n"
     ]
    }
   ],
   "source": [
    "gestures = [\"rock\", \"paper\", \"scissors\"]\n",
    "print(gestures)"
   ]
  },
  {
   "cell_type": "markdown",
   "metadata": {},
   "source": [
    "#### 3. Create a variable called `n_rounds` to store the maximum number of rounds to play in a game. \n",
    "Remember that the number of rounds must be odd: 1, 3, 5, ..."
   ]
  },
  {
   "cell_type": "code",
   "execution_count": 3,
   "metadata": {},
   "outputs": [
    {
     "name": "stdout",
     "output_type": "stream",
     "text": [
      "Enter a number of rounds, must be odd: 5\n",
      "5\n"
     ]
    }
   ],
   "source": [
    "n_rounds = 0\n",
    "while n_rounds == 0:\n",
    "    n_rounds = int(input('Enter a number of rounds, must be odd: '))\n",
    "print(n_rounds)"
   ]
  },
  {
   "cell_type": "markdown",
   "metadata": {},
   "source": [
    "#### 4. Create a variable called `rounds_to_win` to store the number of rounds that a player must win to win the game.\n",
    "**Hint**: the value stored in `rounds_to_win` depends on the value of `n_rounds`. "
   ]
  },
  {
   "cell_type": "code",
   "execution_count": 4,
   "metadata": {},
   "outputs": [
    {
     "name": "stdout",
     "output_type": "stream",
     "text": [
      "3\n"
     ]
    }
   ],
   "source": [
    "round_to_win = (n_rounds/2) + 1\n",
    "print(int(round_to_win))"
   ]
  },
  {
   "cell_type": "markdown",
   "metadata": {},
   "source": [
    "#### 5. Create two variables to store the number of rounds that the computer and the player have won. Call these variables `cpu_score` and `player_score`."
   ]
  },
  {
   "cell_type": "code",
   "execution_count": 5,
   "metadata": {},
   "outputs": [],
   "source": [
    "cpu_score = 0\n",
    "player_score = 0"
   ]
  },
  {
   "cell_type": "markdown",
   "metadata": {},
   "source": [
    "#### 6. Define a function that randomly returns one of the 3 gesture options.\n",
    "You will use this function to simulate the gesture choice of the computer. "
   ]
  },
  {
   "cell_type": "code",
   "execution_count": 10,
   "metadata": {},
   "outputs": [
    {
     "name": "stdout",
     "output_type": "stream",
     "text": [
      "scissors\n"
     ]
    }
   ],
   "source": [
    "cpu_choice = random.choice(gestures)\n",
    "print(cpu_choice)"
   ]
  },
  {
   "cell_type": "code",
   "execution_count": null,
   "metadata": {},
   "outputs": [],
   "source": []
  },
  {
   "cell_type": "markdown",
   "metadata": {},
   "source": [
    "#### 7. Define a function that asks the player which is the gesture he or she wants to show: 'rock', 'paper' or 'scissors'.\n",
    "The player should only be allowed to choose one of the 3 gesture options. If the player's choice is not rock, paper or scissors, keep asking until it is."
   ]
  },
  {
   "cell_type": "code",
   "execution_count": 11,
   "metadata": {},
   "outputs": [
    {
     "name": "stdout",
     "output_type": "stream",
     "text": [
      "So... rock, paper or scissors?rock\n",
      "rock\n"
     ]
    }
   ],
   "source": [
    "player_choice = (input('So... rock, paper or scissors?'))\n",
    "if player_choice in gestures:\n",
    "    print(player_choice)\n",
    "else:\n",
    "    player_choice = (input('choose one of the three: rock, paper or scissors?'))"
   ]
  },
  {
   "cell_type": "markdown",
   "metadata": {},
   "source": [
    "#### 8. Define a function that checks who won a round. \n",
    "The function should return 0 if there is a tie, 1 if the computer wins and 2 if the player wins."
   ]
  },
  {
   "cell_type": "code",
   "execution_count": 12,
   "metadata": {},
   "outputs": [],
   "source": [
    "cpu_choice = random.choice(gestures)\n",
    "round_result = 0\n",
    "if player_choice == \"rock\" and cpu_choice == \"paper\":\n",
    "    round_result = 1\n",
    "elif player_choice == \"rock\" and cpu_choice == \"scissors\":\n",
    "    round_result = 2\n",
    "elif player_choice == \"paper\" and cpu_choice == \"rock\":\n",
    "    round_result = 2\n",
    "elif player_choice == \"paper\" and cpu_choice == \"scissors\":\n",
    "    round_result = 1\n",
    "elif player_choice == \"scissors\" and cpu_choice == \"paper\":\n",
    "    round_result = 2\n",
    "elif player_choice == \"scissors\" and cpu_choice == \"rock\":\n",
    "    round_result = 1\n",
    "elif player_choice == \"scissors\" and cpu_choice == \"scissors\":\n",
    "    round_result = 0\n",
    "elif player_choice == \"rock\" and cpu_choice == \"rock\":\n",
    "    round_result = 0\n",
    "elif player_choice == \"paper\" and cpu_choice == \"paper\":\n",
    "    round_result = 0\n",
    "else:\n",
    "    round_result = 0"
   ]
  },
  {
   "cell_type": "code",
   "execution_count": null,
   "metadata": {},
   "outputs": [],
   "source": []
  },
  {
   "cell_type": "markdown",
   "metadata": {},
   "source": [
    "#### 9. Define a function that prints the choice of the computer, the choice of the player and a message that announces who won the current round. \n",
    "You should also use this function to update the variables that count the number of rounds that the computer and the player have won. The score of the winner increases by one point. If there is a tie, the score does not increase."
   ]
  },
  {
   "cell_type": "code",
   "execution_count": 13,
   "metadata": {},
   "outputs": [
    {
     "name": "stdout",
     "output_type": "stream",
     "text": [
      "you chose: rock CPU chose paper\n",
      "CPU wins that round\n"
     ]
    }
   ],
   "source": [
    "if round_result == 0:\n",
    "    print(\"you chose:\",player_choice,\"CPU chose\",cpu_choice)\n",
    "    print(\"That's a tie\")\n",
    "elif round_result == 1:\n",
    "    print(\"you chose:\",player_choice,\"CPU chose\",cpu_choice)\n",
    "    print(\"CPU wins that round\")\n",
    "elif round_result == 2:\n",
    "    print(\"you chose:\",player_choice,\"CPU chose\",cpu_choice)\n",
    "    print(\"You win that round!!! Yeaaahhh baby!\")"
   ]
  },
  {
   "cell_type": "markdown",
   "metadata": {},
   "source": [
    "#### 10. Now it's time to code the execution of the game using the functions and variables you defined above. \n",
    "\n",
    "First, create a loop structure that repeats while no player reaches the minimum score necessary to win and the number of rounds is less than the maximum number of rounds to play in a game.  \n",
    "\n",
    "Inside the loop, use the functions and variables above to create the execution of a round: ask for the player's choice, generate the random choice of the computer, show the round results, update the scores, etc. "
   ]
  },
  {
   "cell_type": "code",
   "execution_count": 30,
   "metadata": {},
   "outputs": [
    {
     "name": "stdout",
     "output_type": "stream",
     "text": [
      "Enter a number of rounds, must be odd: 5\n",
      "You will now play: 5 rounds\n",
      "So... rock, paper or scissors?paper\n",
      "Thanks you chose: paper\n",
      "you chose: paper CPU chose scissors\n",
      "CPU wins that round\n",
      "So... rock, paper or scissors?rock\n",
      "Thanks you chose: rock\n",
      "you chose: rock CPU chose rock\n",
      "That's a tie\n",
      "So... rock, paper or scissors?rock\n",
      "Thanks you chose: rock\n",
      "you chose: rock CPU chose scissors\n",
      "You win that round!!! Yeaaahhh baby!\n",
      "So... rock, paper or scissors?paper\n",
      "Thanks you chose: paper\n",
      "you chose: paper CPU chose rock\n",
      "You win that round!!! Yeaaahhh baby!\n",
      "So... rock, paper or scissors?scissors\n",
      "Thanks you chose: scissors\n",
      "you chose: scissors CPU chose rock\n",
      "CPU wins that round\n"
     ]
    }
   ],
   "source": [
    "import random\n",
    "\n",
    "gestures = [\"rock\",\"paper\",\"scissors\"]\n",
    "\n",
    "n_rounds = 0\n",
    "while n_rounds == 0:\n",
    "    n_rounds = int(input('Enter a number of rounds, must be odd: '))\n",
    "print(\"You will now play:\",n_rounds,\"rounds\")\n",
    "rounds_to_win = int(n_rounds / 2) + 1\n",
    "\n",
    "cpu_score = 0\n",
    "player_score = 0\n",
    "\n",
    "for i in range(n_rounds) or cpu_score < rounds_to_win or player_score < rounds_to_win:\n",
    "    round_result = 0\n",
    "    \n",
    "    cpu_choice = random.choice(gestures)\n",
    "    player_choice = (input('So... rock, paper or scissors?'))\n",
    "    if player_choice in gestures:\n",
    "        print(\"Thanks you chose:\",player_choice)\n",
    "    \n",
    "    else:\n",
    "        player_choice = (input('choose one of the three: rock, paper or scissors?'))\n",
    "    if player_choice == \"rock\" and cpu_choice == \"paper\":\n",
    "        round_result = 1\n",
    "    elif player_choice == \"rock\" and cpu_choice == \"scissors\":\n",
    "        round_result = 2\n",
    "    elif player_choice == \"paper\" and cpu_choice == \"rock\":\n",
    "        round_result = 2\n",
    "    elif player_choice == \"paper\" and cpu_choice == \"scissors\":\n",
    "        round_result = 1\n",
    "    elif player_choice == \"scissors\" and cpu_choice == \"paper\":\n",
    "        round_result = 2\n",
    "    elif player_choice == \"scissors\" and cpu_choice == \"rock\":\n",
    "        round_result = 1\n",
    "    else:\n",
    "        round_result = 0\n",
    "    \n",
    "    if round_result == 0:\n",
    "        print(\"you chose:\",player_choice,\"CPU chose\",cpu_choice)\n",
    "        print(\"That's a tie\")\n",
    "    elif round_result == 1:\n",
    "        print(\"you chose:\",player_choice,\"CPU chose\",cpu_choice)\n",
    "        cpu_score += 1\n",
    "        print(\"CPU wins that round\")\n",
    "    elif round_result == 2:\n",
    "        print(\"you chose:\",player_choice,\"CPU chose\",cpu_choice)\n",
    "        player_score += 1\n",
    "        print(\"You win that round!!! Yeaaahhh baby!\")\n",
    "        \n",
    "    i += 1\n"
   ]
  },
  {
   "cell_type": "markdown",
   "metadata": {},
   "source": [
    "#### 11. Print the winner of the game based on who won more rounds.\n",
    "Remember that the game might be tied. "
   ]
  },
  {
   "cell_type": "code",
   "execution_count": 39,
   "metadata": {},
   "outputs": [
    {
     "name": "stdout",
     "output_type": "stream",
     "text": [
      "It's a tie. 2 against 2\n"
     ]
    }
   ],
   "source": [
    "if player_score > cpu_score:\n",
    "    print(\"You won,\", player_score, \"against\", cpu_score)\n",
    "elif player_score < cpu_score:\n",
    "    print(\"You lost,\", cpu_score, \"against\", player_score)\n",
    "else:\n",
    "        print(\"It's a tie.\", player_score, \"against\", cpu_score)"
   ]
  },
  {
   "cell_type": "markdown",
   "metadata": {},
   "source": [
    "# Bonus: Rock, Paper, Scissors, Lizard & Spock\n",
    "![](images/rpsls.jpg)\n",
    "\n",
    "In this challenge, you need to improve the previous game by adding two new options. To know more about the rules of the improved version of rock, paper, scissors, check this [link](http://www.samkass.com/theories/RPSSL.html). \n",
    "\n",
    "In addition, you will also need to improve how the game interacts with the player: the number of rounds to play, which must be an odd number, will be requested to the user until a valid number is entered. Define a new function to make that request.\n",
    "\n",
    "**Hint**: Try to reuse the code that you already coded in the previous challenge. If your code is efficient, this bonus will only consist of simple modifications to the original game."
   ]
  },
  {
   "cell_type": "code",
   "execution_count": null,
   "metadata": {},
   "outputs": [],
   "source": []
  }
 ],
 "metadata": {
  "kernelspec": {
   "display_name": "Python 3",
   "language": "python",
   "name": "python3"
  },
  "language_info": {
   "codemirror_mode": {
    "name": "ipython",
    "version": 3
   },
   "file_extension": ".py",
   "mimetype": "text/x-python",
   "name": "python",
   "nbconvert_exporter": "python",
   "pygments_lexer": "ipython3",
   "version": "3.8.5"
  }
 },
 "nbformat": 4,
 "nbformat_minor": 2
}
