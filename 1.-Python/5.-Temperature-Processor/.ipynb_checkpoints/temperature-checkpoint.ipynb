{
 "cells": [
  {
   "cell_type": "markdown",
   "metadata": {},
   "source": [
    "<img src=\"https://bit.ly/2VnXWr2\" width=\"100\" align=\"left\">"
   ]
  },
  {
   "cell_type": "markdown",
   "metadata": {},
   "source": [
    "# Temperature Sensor\n",
    "\n",
    "There is a temperature sensor in the processor of your company's server. The company wants to analyze the data provided by the sensor to decide if they should change the cooling system for a better one. As changing the cooling system is expensive and you are an excellent data analyst, you can't make a decision without basis.\n",
    "\n",
    "## Tools\n",
    "You don't necessarily need to use all the tools. Maybe you opt to use some of them or completely different ones, they are given to help you shape the exercise. Programming exercises can be solved in many different ways.\n",
    "1. Data structures: **lists**\n",
    "2. Loops: **list comprehension**\n",
    "3. Functions: **min, max, print, len**\n",
    "4. Conditional statements: **if-elif-else**\n",
    "\n",
    "## Tasks\n",
    "The temperatures measured throughout the 24 hours of a day are:"
   ]
  },
  {
   "cell_type": "code",
   "execution_count": 5,
   "metadata": {},
   "outputs": [],
   "source": [
    "temperatures_c = [33, 66, 65, 0, 59, 60, 62, 64, 70, 76, 80, 81, 80, 83, 90, 79, 61, 53, 50, 49, 53, 48, 45, 39]"
   ]
  },
  {
   "cell_type": "markdown",
   "metadata": {},
   "source": [
    "The first element of the list is the temperature at 12am, the second element is the temperature at 1am, and so on. \n",
    "\n",
    "The company has decided that if one of the following events occurs, then the cooling system needs to be replaced for a new one to avoid damaging the processor.\n",
    "* More than 4 temperatures are greater than or equal to 70ºC.\n",
    "* Any temperature is above 80ºC.\n",
    "* The average temperature exceeds 65ºC.\n",
    "\n",
    "Follow the steps so that you can make the decision.\n",
    "\n",
    "#### 1. Find the minimum temperature of the day and store it in a variable."
   ]
  },
  {
   "cell_type": "code",
   "execution_count": 9,
   "metadata": {},
   "outputs": [],
   "source": [
    "minimun = min(temperatures_c)"
   ]
  },
  {
   "cell_type": "code",
   "execution_count": 17,
   "metadata": {},
   "outputs": [
    {
     "name": "stdout",
     "output_type": "stream",
     "text": [
      "The minimum temperature of the day is 0 ºC\n"
     ]
    }
   ],
   "source": [
    "print(\"The minimum temperature of the day is\", minimun, \"ºC\")"
   ]
  },
  {
   "cell_type": "markdown",
   "metadata": {},
   "source": [
    "#### 2. Find the maximum temperature of the day and store it in a variable."
   ]
  },
  {
   "cell_type": "code",
   "execution_count": 40,
   "metadata": {},
   "outputs": [
    {
     "name": "stdout",
     "output_type": "stream",
     "text": [
      "The maximum temeperature of the day is 90 ºC\n"
     ]
    }
   ],
   "source": [
    "max_temp = max(temperatures_c)\n",
    "\n",
    "print(\"The maximum temeperature of the day is\", max_temp, \"ºC\")"
   ]
  },
  {
   "cell_type": "markdown",
   "metadata": {},
   "source": [
    "#### 3. Create a list with the temperatures that are greater than or equal to 70ºC. Store it in a variable."
   ]
  },
  {
   "cell_type": "code",
   "execution_count": 39,
   "metadata": {},
   "outputs": [
    {
     "name": "stdout",
     "output_type": "stream",
     "text": [
      "The temperatures that are greater than or equal to 70ºC are [70, 76, 80, 81, 80, 83, 90, 79]\n"
     ]
    }
   ],
   "source": [
    "gt_70 =[]\n",
    "for x in temperatures_c:\n",
    "    if x >= 70:\n",
    "        gt_70.append(x)\n",
    "    \n",
    "print(\"The temperatures that are greater than or equal to 70ºC are\", gt_70)\n",
    "    "
   ]
  },
  {
   "cell_type": "markdown",
   "metadata": {},
   "source": [
    "#### 4. Find the average temperature of the day and store it in a variable."
   ]
  },
  {
   "cell_type": "code",
   "execution_count": 24,
   "metadata": {},
   "outputs": [],
   "source": [
    "average_temp = sum(temperatures_c)/len(temperatures_c)"
   ]
  },
  {
   "cell_type": "code",
   "execution_count": 25,
   "metadata": {},
   "outputs": [
    {
     "name": "stdout",
     "output_type": "stream",
     "text": [
      "The average temperature of the day is 60.25\n"
     ]
    }
   ],
   "source": [
    "print(\"The average temperature of the day is\", average_temp)"
   ]
  },
  {
   "cell_type": "markdown",
   "metadata": {},
   "source": [
    "#### 5. Imagine that there was a sensor failure at 3am and the data for that specific hour was not recorded. How would you estimate the missing value? Replace the current value of the list at 3am for an estimation. "
   ]
  },
  {
   "cell_type": "code",
   "execution_count": 38,
   "metadata": {},
   "outputs": [
    {
     "name": "stdout",
     "output_type": "stream",
     "text": [
      "The estimate value missing would be 62.0\n"
     ]
    }
   ],
   "source": [
    "estimated_value = sum((temperatures_c[2], temperatures_c[4])) / len((temperatures_c[2],temperatures_c[4]))\n",
    "\n",
    "print(\"The estimate value missing would be\", estimated_value)"
   ]
  },
  {
   "cell_type": "markdown",
   "metadata": {},
   "source": [
    "#### 6. Bonus: the maintenance staff is from the United States and does not understand the international metric system. Help them by converting the temperatures from Celsius to Fahrenheit.\n",
    "To know more about temperature conversion check this [link](https://en.wikipedia.org/wiki/Conversion_of_units_of_temperature).\n",
    "\n",
    "**Formula**: \n",
    "\n",
    "$F = 1.8 * C + 32$"
   ]
  },
  {
   "cell_type": "code",
   "execution_count": 31,
   "metadata": {},
   "outputs": [
    {
     "name": "stdout",
     "output_type": "stream",
     "text": [
      "[91.4, 150.8, 149.0, 32.0, 138.2, 140.0, 143.60000000000002, 147.2, 158.0, 168.8, 176.0, 177.8, 176.0, 181.4, 194.0, 174.20000000000002, 141.8, 127.4, 122.0, 120.2, 127.4, 118.4, 113.0, 102.2]\n"
     ]
    }
   ],
   "source": [
    "temp_f = []\n",
    "\n",
    "for i in temperatures_c:\n",
    "    temp_f.append(1.8*i + 32)\n",
    "    \n",
    "print(temp_f)"
   ]
  },
  {
   "cell_type": "markdown",
   "metadata": {},
   "source": [
    "#### 7. Make a decision!\n",
    "Now it's time to make a decision taking into account what you have seen until now. \n",
    "\n",
    "Remember that if one of the following events occurs, then the cooling system needs to be replaced for a new one to avoid damaging the processor.\n",
    "* More than 4 temperatures are greater than or equal to 70ºC.\n",
    "* Any temperature is above 80ºC.\n",
    "* The average temperature exceeds 65ºC.\n",
    "\n",
    "#### To make your decision, check if any of the three conditions above is met. You might need to use some of the variables you created in steps 1 to 6. Print a message to show if the cooling system needs to be changed or not."
   ]
  },
  {
   "cell_type": "code",
   "execution_count": 105,
   "metadata": {},
   "outputs": [
    {
     "name": "stdout",
     "output_type": "stream",
     "text": [
      "More than 4 temperatures are greater than or equal to 70ºC? False\n",
      "Any temperature is above 80ºC? False\n",
      "The average temperature exceeds 65ºC? True\n",
      "As 2 of the 3 conditions were not met. We should change the cooling system.\n"
     ]
    }
   ],
   "source": [
    "#Condition 1\n",
    "condition_1 = not(len(gt_70) > 4)\n",
    "\n",
    "\n",
    "#Condition 2\n",
    "above80 = 0\n",
    "\n",
    "for temp in temperatures_c:\n",
    "    if temp > 80:\n",
    "        above80 += 1\n",
    "\n",
    "condition_2 = not(above80 > 0)\n",
    "\n",
    "#Condition 3\n",
    "condition_3 = not(average_temp > 65)\n",
    "\n",
    "print(\"More than 4 temperatures are greater than or equal to 70ºC?\", condition_1)\n",
    "print(\"Any temperature is above 80ºC?\", condition_2)\n",
    "print(\"The average temperature exceeds 65ºC?\", condition_3)\n",
    "print(\"As 2 of the 3 conditions were not met. We should change the cooling system.\")\n"
   ]
  },
  {
   "cell_type": "markdown",
   "metadata": {},
   "source": [
    "## Bonus\n",
    "\n",
    "The company has decided that the decision you made is not valid. They want you to analyze the data again but this time, the conditions that need to be met in order to change the cooling system are different.\n",
    "\n",
    "This time, if one of the following events occurs, then the cooling system needs to be replaced:\n",
    "* The temperature is greater than 70ºC during more than 4 consecutive hours.\n",
    "* Any temperature is above 80ºC.\n",
    "* The average temperature exceeds 65ºC.\n",
    "\n",
    "Follow the steps so that you can make the decision.\n",
    "\n",
    "#### 1. Create a list with the hours where the temperature is greater than 70ºC. Store it in a variable."
   ]
  },
  {
   "cell_type": "code",
   "execution_count": null,
   "metadata": {},
   "outputs": [],
   "source": []
  },
  {
   "cell_type": "markdown",
   "metadata": {},
   "source": [
    "#### 2. Check if the list you created in step 1 has more than 4 consecutive hours. "
   ]
  },
  {
   "cell_type": "code",
   "execution_count": null,
   "metadata": {},
   "outputs": [],
   "source": []
  },
  {
   "cell_type": "markdown",
   "metadata": {},
   "source": [
    "#### 3. Make the decision!\n",
    "To make your decision, check if any of the three conditions is met. Print a message to show if the cooling system needs to be changed or not."
   ]
  },
  {
   "cell_type": "code",
   "execution_count": null,
   "metadata": {},
   "outputs": [],
   "source": []
  },
  {
   "cell_type": "markdown",
   "metadata": {},
   "source": [
    "#### 4. Find the average value of the temperature lists (ºC and ºF). What is the relation between both average values?"
   ]
  },
  {
   "cell_type": "code",
   "execution_count": null,
   "metadata": {},
   "outputs": [],
   "source": []
  },
  {
   "cell_type": "markdown",
   "metadata": {},
   "source": [
    "#### 5. Find the standard deviation of the temperature lists (ºC and ºF). What is the relation between both standard deviations?"
   ]
  },
  {
   "cell_type": "code",
   "execution_count": null,
   "metadata": {},
   "outputs": [],
   "source": []
  }
 ],
 "metadata": {
  "kernelspec": {
   "display_name": "Python 3",
   "language": "python",
   "name": "python3"
  },
  "language_info": {
   "codemirror_mode": {
    "name": "ipython",
    "version": 3
   },
   "file_extension": ".py",
   "mimetype": "text/x-python",
   "name": "python",
   "nbconvert_exporter": "python",
   "pygments_lexer": "ipython3",
   "version": "3.8.5"
  }
 },
 "nbformat": 4,
 "nbformat_minor": 2
}
